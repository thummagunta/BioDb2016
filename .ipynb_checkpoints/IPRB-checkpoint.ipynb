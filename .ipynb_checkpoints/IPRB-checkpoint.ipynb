{
 "cells": [
  {
   "cell_type": "code",
   "execution_count": 2,
   "metadata": {
    "collapsed": false
   },
   "outputs": [
    {
     "data": {
      "text/plain": [
       "0.7768361581920904"
      ]
     },
     "execution_count": 2,
     "metadata": {},
     "output_type": "execute_result"
    }
   ],
   "source": [
    "def IPRB(k,m,n):\n",
    "\n",
    "    k,m,n = map(float, (k,m,n))\n",
    "    t = k+m+n\n",
    "    pk = k/t\n",
    "    pm = m/t\n",
    "    pn = n/t\n",
    "\n",
    "    \n",
    "    prob = 1 ## Max probability\n",
    "    prob -= pn*((n-1)/(t-1)) #homozygous recessive\n",
    "    prob -= 2*pn*(m/(t-1))*0.5   #one homozygous recessive & one heterozygous recessive, (e.g. Aa * aa & aa * Aa)\n",
    "    prob -= pm*((m-1)/(t-1))*0.25 #heterozygous recessive\n",
    "\n",
    "    return prob\n",
    "IPRB(19, 25, 16)"
   ]
  },
  {
   "cell_type": "code",
   "execution_count": null,
   "metadata": {
    "collapsed": true
   },
   "outputs": [],
   "source": []
  }
 ],
 "metadata": {
  "kernelspec": {
   "display_name": "Python 3",
   "language": "python",
   "name": "python3"
  },
  "language_info": {
   "codemirror_mode": {
    "name": "ipython",
    "version": 3
   },
   "file_extension": ".py",
   "mimetype": "text/x-python",
   "name": "python",
   "nbconvert_exporter": "python",
   "pygments_lexer": "ipython3",
   "version": "3.5.2"
  }
 },
 "nbformat": 4,
 "nbformat_minor": 1
}

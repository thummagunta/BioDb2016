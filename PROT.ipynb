{
 "cells": [
  {
   "cell_type": "code",
   "execution_count": 13,
   "metadata": {
    "collapsed": false
   },
   "outputs": [],
   "source": [
    "from Bio.Seq import Seq\n",
    "import Bio.Alphabet\n",
    "\n",
    "f = open(\"rosalind_prot (1).txt\", 'r')\n",
    "seq = Seq(f.read().replace('\\n', ''), Bio.Alphabet.IUPAC.unambiguous_rna)\n",
    "f.close\n",
    "\n",
    "protein = seq.translate(to_stop=True)\n",
    "\n",
    "o = open(\"PROT.txt\", 'w')\n",
    "o.write(str(protein))\n",
    "o.close()"
   ]
  },
  {
   "cell_type": "code",
   "execution_count": null,
   "metadata": {
    "collapsed": true
   },
   "outputs": [],
   "source": []
  }
 ],
 "metadata": {
  "kernelspec": {
   "display_name": "Python 3",
   "language": "python",
   "name": "python3"
  },
  "language_info": {
   "codemirror_mode": {
    "name": "ipython",
    "version": 3
   },
   "file_extension": ".py",
   "mimetype": "text/x-python",
   "name": "python",
   "nbconvert_exporter": "python",
   "pygments_lexer": "ipython3",
   "version": "3.5.2"
  }
 },
 "nbformat": 4,
 "nbformat_minor": 1
}

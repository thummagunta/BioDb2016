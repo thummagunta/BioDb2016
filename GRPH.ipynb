{
 "cells": [
  {
   "cell_type": "code",
   "execution_count": 6,
   "metadata": {
    "collapsed": false
   },
   "outputs": [
    {
     "name": "stdout",
     "output_type": "stream",
     "text": [
      "Rosalind_2808 Rosalind_8249\n",
      "Rosalind_3284 Rosalind_3655\n",
      "Rosalind_3284 Rosalind_1308\n",
      "Rosalind_3284 Rosalind_3272\n",
      "Rosalind_3284 Rosalind_3755\n",
      "Rosalind_1509 Rosalind_1127\n",
      "Rosalind_1509 Rosalind_6822\n",
      "Rosalind_1509 Rosalind_0685\n",
      "Rosalind_7077 Rosalind_9576\n",
      "Rosalind_9417 Rosalind_8877\n",
      "Rosalind_6008 Rosalind_2932\n",
      "Rosalind_6008 Rosalind_2113\n",
      "Rosalind_3645 Rosalind_5246\n",
      "Rosalind_3645 Rosalind_3334\n",
      "Rosalind_3645 Rosalind_4995\n",
      "Rosalind_3645 Rosalind_8317\n",
      "Rosalind_4765 Rosalind_3655\n",
      "Rosalind_4765 Rosalind_1308\n",
      "Rosalind_4765 Rosalind_3272\n",
      "Rosalind_4765 Rosalind_3755\n",
      "Rosalind_2094 Rosalind_0891\n",
      "Rosalind_2094 Rosalind_7513\n",
      "Rosalind_7955 Rosalind_0076\n",
      "Rosalind_2351 Rosalind_4491\n",
      "Rosalind_2624 Rosalind_3655\n",
      "Rosalind_2624 Rosalind_1308\n",
      "Rosalind_2624 Rosalind_3272\n",
      "Rosalind_2624 Rosalind_3755\n",
      "Rosalind_6611 Rosalind_2624\n",
      "Rosalind_6611 Rosalind_8003\n",
      "Rosalind_6611 Rosalind_4675\n",
      "Rosalind_5070 Rosalind_3284\n",
      "Rosalind_5070 Rosalind_7869\n",
      "Rosalind_5070 Rosalind_7637\n",
      "Rosalind_5070 Rosalind_8062\n",
      "Rosalind_8854 Rosalind_0076\n",
      "Rosalind_0283 Rosalind_4765\n",
      "Rosalind_0283 Rosalind_5844\n",
      "Rosalind_5246 Rosalind_1509\n",
      "Rosalind_5013 Rosalind_3284\n",
      "Rosalind_5013 Rosalind_7869\n",
      "Rosalind_5013 Rosalind_7637\n",
      "Rosalind_5013 Rosalind_8062\n",
      "Rosalind_6053 Rosalind_2624\n",
      "Rosalind_6053 Rosalind_8003\n",
      "Rosalind_6053 Rosalind_4675\n",
      "Rosalind_6749 Rosalind_0160\n",
      "Rosalind_6749 Rosalind_0820\n",
      "Rosalind_6749 Rosalind_9233\n",
      "Rosalind_3795 Rosalind_2161\n",
      "Rosalind_3795 Rosalind_6611\n",
      "Rosalind_3795 Rosalind_6053\n",
      "Rosalind_3795 Rosalind_7854\n",
      "Rosalind_4781 Rosalind_2956\n",
      "Rosalind_0160 Rosalind_3284\n",
      "Rosalind_0160 Rosalind_7869\n",
      "Rosalind_0160 Rosalind_7637\n",
      "Rosalind_0160 Rosalind_8062\n",
      "Rosalind_8003 Rosalind_1660\n",
      "Rosalind_8003 Rosalind_8389\n",
      "Rosalind_3334 Rosalind_3655\n",
      "Rosalind_3334 Rosalind_1308\n",
      "Rosalind_3334 Rosalind_3272\n",
      "Rosalind_3334 Rosalind_3755\n",
      "Rosalind_2956 Rosalind_3655\n",
      "Rosalind_2956 Rosalind_1308\n",
      "Rosalind_2956 Rosalind_3272\n",
      "Rosalind_2956 Rosalind_3755\n",
      "Rosalind_2501 Rosalind_0283\n",
      "Rosalind_2501 Rosalind_3320\n",
      "Rosalind_9726 Rosalind_1660\n",
      "Rosalind_9726 Rosalind_8389\n",
      "Rosalind_9923 Rosalind_2729\n",
      "Rosalind_3154 Rosalind_8094\n",
      "Rosalind_0891 Rosalind_4781\n",
      "Rosalind_0891 Rosalind_9421\n",
      "Rosalind_0891 Rosalind_1896\n",
      "Rosalind_0891 Rosalind_4164\n",
      "Rosalind_1660 Rosalind_7077\n",
      "Rosalind_1660 Rosalind_7955\n",
      "Rosalind_4995 Rosalind_2624\n",
      "Rosalind_4995 Rosalind_8003\n",
      "Rosalind_4995 Rosalind_4675\n",
      "Rosalind_7587 Rosalind_4427\n",
      "Rosalind_3320 Rosalind_7077\n",
      "Rosalind_3320 Rosalind_7955\n",
      "Rosalind_1028 Rosalind_8877\n",
      "Rosalind_7073 Rosalind_1028\n",
      "Rosalind_9421 Rosalind_6749\n",
      "Rosalind_1308 Rosalind_1509\n",
      "Rosalind_6484 Rosalind_8854\n",
      "Rosalind_6484 Rosalind_5295\n",
      "Rosalind_7637 Rosalind_0160\n",
      "Rosalind_7637 Rosalind_0820\n",
      "Rosalind_7637 Rosalind_9233\n",
      "Rosalind_7961 Rosalind_3795\n",
      "Rosalind_3023 Rosalind_6749\n",
      "Rosalind_9691 Rosalind_1847\n",
      "Rosalind_9233 Rosalind_3847\n",
      "Rosalind_0090 Rosalind_0076\n",
      "Rosalind_3148 Rosalind_1819\n",
      "Rosalind_1187 Rosalind_3284\n",
      "Rosalind_1187 Rosalind_7869\n",
      "Rosalind_1187 Rosalind_7637\n",
      "Rosalind_1187 Rosalind_8062\n",
      "Rosalind_7854 Rosalind_2094\n",
      "Rosalind_9134 Rosalind_7587\n",
      "Rosalind_9134 Rosalind_0512\n",
      "Rosalind_3847 Rosalind_1919\n",
      "Rosalind_3847 Rosalind_3979\n",
      "Rosalind_6889 Rosalind_3284\n",
      "Rosalind_6889 Rosalind_7869\n",
      "Rosalind_6889 Rosalind_7637\n",
      "Rosalind_6889 Rosalind_8062\n",
      "Rosalind_1668 Rosalind_0160\n",
      "Rosalind_1668 Rosalind_0820\n",
      "Rosalind_1668 Rosalind_9233\n",
      "Rosalind_0512 Rosalind_5246\n",
      "Rosalind_0512 Rosalind_3334\n",
      "Rosalind_0512 Rosalind_4995\n",
      "Rosalind_0512 Rosalind_8317\n",
      "Rosalind_2729 Rosalind_3098\n",
      "Rosalind_8317 Rosalind_2729\n",
      "Rosalind_2932 Rosalind_9417\n",
      "Rosalind_2932 Rosalind_5070\n",
      "Rosalind_2932 Rosalind_7293\n",
      "Rosalind_2932 Rosalind_7961\n",
      "Rosalind_2932 Rosalind_9134\n",
      "Rosalind_3319 Rosalind_3795\n",
      "Rosalind_2634 Rosalind_9417\n",
      "Rosalind_2634 Rosalind_5070\n",
      "Rosalind_2634 Rosalind_7293\n",
      "Rosalind_2634 Rosalind_7961\n",
      "Rosalind_2634 Rosalind_9134\n",
      "Rosalind_1896 Rosalind_4765\n",
      "Rosalind_1896 Rosalind_5844\n",
      "Rosalind_7513 Rosalind_8877\n",
      "Rosalind_3809 Rosalind_3645\n",
      "Rosalind_8086 Rosalind_8968\n",
      "Rosalind_8968 Rosalind_1127\n",
      "Rosalind_8968 Rosalind_6822\n",
      "Rosalind_8968 Rosalind_0685\n",
      "Rosalind_8670 Rosalind_8249\n",
      "Rosalind_1847 Rosalind_0891\n",
      "Rosalind_1847 Rosalind_7513\n",
      "Rosalind_1919 Rosalind_2094\n",
      "Rosalind_4164 Rosalind_4427\n",
      "Rosalind_8062 Rosalind_1668\n",
      "Rosalind_5491 Rosalind_8854\n",
      "Rosalind_5491 Rosalind_5295\n",
      "Rosalind_8249 Rosalind_0891\n",
      "Rosalind_8249 Rosalind_7513\n",
      "Rosalind_9576 Rosalind_8877\n",
      "Rosalind_3979 Rosalind_1819\n",
      "Rosalind_4427 Rosalind_3795\n",
      "Rosalind_8633 Rosalind_3148\n",
      "Rosalind_8633 Rosalind_5491\n",
      "Rosalind_8877 Rosalind_8968\n",
      "Rosalind_3755 Rosalind_1847\n",
      "Rosalind_1819 Rosalind_6484\n",
      "Rosalind_1819 Rosalind_1187\n",
      "Rosalind_2113 Rosalind_9417\n",
      "Rosalind_2113 Rosalind_5070\n",
      "Rosalind_2113 Rosalind_7293\n",
      "Rosalind_2113 Rosalind_7961\n",
      "Rosalind_2113 Rosalind_9134\n",
      "Rosalind_8389 Rosalind_3655\n",
      "Rosalind_8389 Rosalind_1308\n",
      "Rosalind_8389 Rosalind_3272\n",
      "Rosalind_8389 Rosalind_3755\n",
      "Rosalind_8970 Rosalind_1919\n",
      "Rosalind_8970 Rosalind_3979\n",
      "Rosalind_5844 Rosalind_1127\n",
      "Rosalind_5844 Rosalind_6822\n",
      "Rosalind_5844 Rosalind_0685\n"
     ]
    }
   ],
   "source": [
    "def parse_fasta(fasta):\n",
    "    results = []\n",
    "    strings = fasta.strip().split('>')\n",
    "\n",
    "    for s in strings:\n",
    "        if len(s):\n",
    "            parts = s.split()\n",
    "            k = parts[0]\n",
    "            v = ''.join(parts[1:])\n",
    "            results.append((k, v))\n",
    "\n",
    "    return results\n",
    "\n",
    "\n",
    "def overlap_graph(fasta, n):\n",
    "    results = []\n",
    "\n",
    "    dna = parse_fasta(fasta)\n",
    "\n",
    "    for k1, v1 in dna:\n",
    "        for k2, v2 in dna:\n",
    "            if k1 != k2 and v1.endswith(v2[:n]):\n",
    "                results.append((k1, k2))\n",
    "\n",
    "    return results\n",
    "\n",
    "\n",
    "if __name__ == \"__main__\":\n",
    "\n",
    "    \n",
    "\n",
    "    large_dataset = open('rosalind_grph (2).txt').read()\n",
    "\n",
    "    for edge in overlap_graph(large_dataset, 3):\n",
    "        print (edge[0], edge[1])\n"
   ]
  },
  {
   "cell_type": "code",
   "execution_count": 1,
   "metadata": {
    "collapsed": false
   },
   "outputs": [
    {
     "ename": "NameError",
     "evalue": "name 'diction' is not defined",
     "output_type": "error",
     "traceback": [
      "\u001b[0;31m---------------------------------------------------------------------------\u001b[0m",
      "\u001b[0;31mNameError\u001b[0m                                 Traceback (most recent call last)",
      "\u001b[0;32m<ipython-input-1-32f6a34508c8>\u001b[0m in \u001b[0;36m<module>\u001b[0;34m()\u001b[0m\n\u001b[0;32m----> 1\u001b[0;31m \u001b[1;32mfor\u001b[0m \u001b[0mkey\u001b[0m\u001b[1;33m,\u001b[0m\u001b[0mvalue\u001b[0m \u001b[1;32min\u001b[0m \u001b[0mdiction\u001b[0m\u001b[1;33m.\u001b[0m\u001b[0mitems\u001b[0m\u001b[1;33m(\u001b[0m\u001b[1;33m)\u001b[0m\u001b[1;33m:\u001b[0m\u001b[1;33m\u001b[0m\u001b[0m\n\u001b[0m\u001b[1;32m      2\u001b[0m     \u001b[0mkey\u001b[0m\u001b[1;33m=\u001b[0m\u001b[0mkey\u001b[0m\u001b[1;33m.\u001b[0m\u001b[0mlstrip\u001b[0m\u001b[1;33m(\u001b[0m\u001b[1;34m'>'\u001b[0m\u001b[1;33m)\u001b[0m\u001b[1;33m.\u001b[0m\u001b[0mstrip\u001b[0m\u001b[1;33m(\u001b[0m\u001b[1;33m)\u001b[0m\u001b[1;33m\u001b[0m\u001b[0m\n\u001b[1;32m      3\u001b[0m     \u001b[0mvalue\u001b[0m \u001b[1;33m=\u001b[0m \u001b[0mvalue\u001b[0m\u001b[1;33m.\u001b[0m\u001b[0mstrip\u001b[0m\u001b[1;33m(\u001b[0m\u001b[1;33m)\u001b[0m\u001b[1;33m\u001b[0m\u001b[0m\n\u001b[1;32m      4\u001b[0m     \u001b[0mdiction_new\u001b[0m\u001b[1;33m[\u001b[0m\u001b[0mkey\u001b[0m\u001b[1;33m]\u001b[0m \u001b[1;33m=\u001b[0m \u001b[0mvalue\u001b[0m\u001b[1;33m\u001b[0m\u001b[0m\n\u001b[1;32m      5\u001b[0m \u001b[1;33m\u001b[0m\u001b[0m\n",
      "\u001b[0;31mNameError\u001b[0m: name 'diction' is not defined"
     ]
    }
   ],
   "source": [
    "for key,value in diction.items():\n",
    "    key=key.lstrip('>').strip()\n",
    "    value = value.strip()\n",
    "    diction_new[key] = value\n",
    "    \n",
    "diction_new"
   ]
  },
  {
   "cell_type": "code",
   "execution_count": null,
   "metadata": {
    "collapsed": true
   },
   "outputs": [],
   "source": [
    "{key.lstrip('>').strip(): value.strip() for key,value in diction.items}"
   ]
  },
  {
   "cell_type": "code",
   "execution_count": 12,
   "metadata": {
    "collapsed": false
   },
   "outputs": [
    {
     "data": {
      "text/plain": [
       "'abc'"
      ]
     },
     "execution_count": 12,
     "metadata": {},
     "output_type": "execute_result"
    }
   ],
   "source": [
    "s = 'abcdefnophkgki6zgkfk'\n",
    "s[:3]"
   ]
  },
  {
   "cell_type": "code",
   "execution_count": 13,
   "metadata": {
    "collapsed": false
   },
   "outputs": [
    {
     "data": {
      "text/plain": [
       "'kfk'"
      ]
     },
     "execution_count": 13,
     "metadata": {},
     "output_type": "execute_result"
    }
   ],
   "source": [
    "s[-3:]"
   ]
  },
  {
   "cell_type": "code",
   "execution_count": 15,
   "metadata": {
    "collapsed": false
   },
   "outputs": [
    {
     "data": {
      "text/plain": [
       "'kfkgz6ikgkhponfedcba'"
      ]
     },
     "execution_count": 15,
     "metadata": {},
     "output_type": "execute_result"
    }
   ],
   "source": [
    "s[::-1]"
   ]
  },
  {
   "cell_type": "code",
   "execution_count": 22,
   "metadata": {
    "collapsed": false
   },
   "outputs": [],
   "source": [
    "#diction = diction_new\n",
    "import itertools as itt"
   ]
  },
  {
   "cell_type": "code",
   "execution_count": 23,
   "metadata": {
    "collapsed": false
   },
   "outputs": [
    {
     "ename": "SyntaxError",
     "evalue": "invalid syntax (<ipython-input-23-e4d8edc05fd4>, line 3)",
     "output_type": "error",
     "traceback": [
      "\u001b[0;36m  File \u001b[0;32m\"<ipython-input-23-e4d8edc05fd4>\"\u001b[0;36m, line \u001b[0;32m3\u001b[0m\n\u001b[0;31m    if acc1 !\u001b[0m\n\u001b[0m            ^\u001b[0m\n\u001b[0;31mSyntaxError\u001b[0m\u001b[0;31m:\u001b[0m invalid syntax\n"
     ]
    }
   ],
   "source": [
    "for accl, seq1 in diction.items():\n",
    "    for acc2, seq2 in diction.items():\n",
    "        if acc1 !"
   ]
  },
  {
   "cell_type": "code",
   "execution_count": 24,
   "metadata": {
    "collapsed": false
   },
   "outputs": [
    {
     "name": "stdout",
     "output_type": "stream",
     "text": [
      "1 2\n",
      "1 3\n",
      "2 3\n"
     ]
    }
   ],
   "source": [
    "my_list1 = [1,2,3]\n",
    "#my_list_2 = [4, 5, 6]\n",
    "\n",
    "for a , b in itt.product(my_list_1, repeat=2):\n",
    "    if a != b and a < b:\n",
    "        print(a, b)\n",
    "        "
   ]
  },
  {
   "cell_type": "code",
   "execution_count": 27,
   "metadata": {
    "collapsed": false
   },
   "outputs": [
    {
     "ename": "NameError",
     "evalue": "name 'diction' is not defined",
     "output_type": "error",
     "traceback": [
      "\u001b[0;31m---------------------------------------------------------------------------\u001b[0m",
      "\u001b[0;31mNameError\u001b[0m                                 Traceback (most recent call last)",
      "\u001b[0;32m<ipython-input-27-7df54266e343>\u001b[0m in \u001b[0;36m<module>\u001b[0;34m()\u001b[0m\n\u001b[0;32m----> 1\u001b[0;31m \u001b[1;32mfor\u001b[0m \u001b[0macc1\u001b[0m\u001b[1;33m,\u001b[0m \u001b[0macc2\u001b[0m \u001b[1;32min\u001b[0m \u001b[0mitt\u001b[0m\u001b[1;33m.\u001b[0m\u001b[0mproduct\u001b[0m\u001b[1;33m(\u001b[0m\u001b[0mdiction\u001b[0m\u001b[1;33m,\u001b[0m \u001b[0mrepeat\u001b[0m\u001b[1;33m=\u001b[0m\u001b[1;36m2\u001b[0m\u001b[1;33m)\u001b[0m\u001b[1;33m:\u001b[0m\u001b[1;33m\u001b[0m\u001b[0m\n\u001b[0m\u001b[1;32m      2\u001b[0m     \u001b[1;32mif\u001b[0m \u001b[0macc1\u001b[0m \u001b[1;33m!=\u001b[0m \u001b[0macc2\u001b[0m \u001b[1;32mand\u001b[0m \u001b[0mdiction\u001b[0m\u001b[1;33m[\u001b[0m\u001b[0macc1\u001b[0m\u001b[1;33m]\u001b[0m\u001b[1;33m[\u001b[0m\u001b[1;33m-\u001b[0m\u001b[1;36m3\u001b[0m\u001b[1;33m:\u001b[0m\u001b[1;33m]\u001b[0m\u001b[1;33m==\u001b[0m \u001b[0mdiction\u001b[0m\u001b[1;33m[\u001b[0m\u001b[0macc2\u001b[0m\u001b[1;33m]\u001b[0m\u001b[1;33m[\u001b[0m\u001b[1;36m0\u001b[0m\u001b[1;33m:\u001b[0m\u001b[1;36m3\u001b[0m\u001b[1;33m]\u001b[0m\u001b[1;33m:\u001b[0m\u001b[1;33m\u001b[0m\u001b[0m\n\u001b[1;32m      3\u001b[0m         \u001b[0mprint\u001b[0m\u001b[1;33m(\u001b[0m\u001b[0macc1\u001b[0m\u001b[1;33m,\u001b[0m \u001b[0macc2\u001b[0m\u001b[1;33m)\u001b[0m\u001b[1;33m\u001b[0m\u001b[0m\n",
      "\u001b[0;31mNameError\u001b[0m: name 'diction' is not defined"
     ]
    }
   ],
   "source": [
    "for acc1, acc2 in itt.product(diction, repeat=2):\n",
    "    if acc1 != acc2 and diction[acc1][-3:]== diction[acc2][0:3]:\n",
    "        print(acc1, acc2)"
   ]
  },
  {
   "cell_type": "code",
   "execution_count": null,
   "metadata": {
    "collapsed": true
   },
   "outputs": [],
   "source": []
  }
 ],
 "metadata": {
  "kernelspec": {
   "display_name": "Python 3",
   "language": "python",
   "name": "python3"
  },
  "language_info": {
   "codemirror_mode": {
    "name": "ipython",
    "version": 3
   },
   "file_extension": ".py",
   "mimetype": "text/x-python",
   "name": "python",
   "nbconvert_exporter": "python",
   "pygments_lexer": "ipython3",
   "version": "3.5.2"
  }
 },
 "nbformat": 4,
 "nbformat_minor": 1
}

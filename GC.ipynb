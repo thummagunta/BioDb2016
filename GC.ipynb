{
 "cells": [
  {
   "cell_type": "code",
   "execution_count": 2,
   "metadata": {
    "collapsed": false
   },
   "outputs": [
    {
     "name": "stdout",
     "output_type": "stream",
     "text": [
      "('Rosalind_9308', 52.320185614849194)\n"
     ]
    }
   ],
   "source": [
    "def read_fasta(infile):\n",
    "    fin = open(infile, \"r\")\n",
    "    seq = \"\"\n",
    "    header = None\n",
    "    all_seq = {}\n",
    "    for line in fin:\n",
    "        if line.startswith(\">\"):\n",
    "            if header is not None:\n",
    "                all_seq[header] = seq\n",
    "            header = line.lstrip(\">\").rstrip(\"\\n\")\n",
    "            seq=\"\"\n",
    "        else:\n",
    "            seq += line.strip()\n",
    "    all_seq[header] = seq     \n",
    "    fin.close()\n",
    "    return(all_seq)\n",
    "\n",
    "def rankGC(infile):\n",
    "    all_seq = read_fasta(infile)\n",
    "    countGC = {}\n",
    "    for header, seq in all_seq.items():\n",
    "        Gcount = 0\n",
    "        Ccount = 0\n",
    "        for c in seq:\n",
    "            if c == 'G':\n",
    "                Gcount += 1\n",
    "            elif c == 'C':\n",
    "                Ccount += 1\n",
    "        GCpercentage = (Gcount + Ccount) / len(seq) *100\n",
    "        countGC[header] = GCpercentage\n",
    "    max_seq = max(countGC, key=countGC.get)\n",
    "    max_val = countGC[max_seq]\n",
    "    return max_seq, max_val\n",
    "\n",
    "infile = \"rosalind_gc (3).txt\"\n",
    "res = rankGC(infile)\n",
    "print (res)\n"
   ]
  },
  {
   "cell_type": "code",
   "execution_count": null,
   "metadata": {
    "collapsed": true
   },
   "outputs": [],
   "source": []
  }
 ],
 "metadata": {
  "kernelspec": {
   "display_name": "Python 3",
   "language": "python",
   "name": "python3"
  },
  "language_info": {
   "codemirror_mode": {
    "name": "ipython",
    "version": 3
   },
   "file_extension": ".py",
   "mimetype": "text/x-python",
   "name": "python",
   "nbconvert_exporter": "python",
   "pygments_lexer": "ipython3",
   "version": "3.5.2"
  }
 },
 "nbformat": 4,
 "nbformat_minor": 1
}
